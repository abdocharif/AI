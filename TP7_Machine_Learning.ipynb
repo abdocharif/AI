{
  "cells": [
    {
      "cell_type": "markdown",
      "metadata": {
        "id": "vBY1Vdsp00eN"
      },
      "source": [
        "<center><h1> Série de Travaux Pratiques N° 7 - Machine Learning </h1></center>\n",
        "<center><h2> K-Nearest Neighbor and Decision Tree</h2></center>\n",
        "\n",
        "---\n",
        "\n"
      ]
    },
    {
      "cell_type": "markdown",
      "metadata": {
        "id": "2OT_v-xSH8NW"
      },
      "source": [
        "Pour ce TP, on utilisera le **dataset IRIS**. Ce dernier est une base de données regroupant les caractéristiques de **trois espèces de fleurs d’Iris, à savoir Setosa, Versicolour et Virginica**. Chaque ligne de ce jeu de données est une observation des caractéristiques d’une fleur d’Iris. Ce dataset décrit les espèces d’Iris par quatre propriétés : longueur et largeur de sépales ainsi que longueur et largeur de pétales. La base de données comporte 150 observations (50 observations par espèce)."
      ]
    },
    {
      "cell_type": "markdown",
      "metadata": {
        "id": "2xIqBKf-_MK9"
      },
      "source": [
        "# **Partie I : K-Nearest Neighbor**"
      ]
    },
    {
      "cell_type": "markdown",
      "metadata": {
        "id": "fG-mqDhouw_G"
      },
      "source": [
        "# **Questions :**\n",
        "\n",
        "1- Importer les packages nécessaires\n",
        "\n",
        "2- Lire l'ensemble de données dans le dataframe pandas\n",
        "\n",
        "3- Afficher et explorer l'ensemble de données \"**iris.csv**\"\n",
        "\n",
        "4- Extraire les variables d'entrée X\n",
        "\n",
        "5- Extraire les variables de sortie y\n",
        "\n",
        "6- Diviser le dataset en Train / Test\n",
        "\n",
        "7- Mise à l'échelle des fonctionnalités avec Transform()\n",
        "\n",
        "8- Définir votre modèle **KNN**\n",
        "\n",
        "9- Entraîner le modèle\n",
        "\n",
        "10- Prédiction sur l'ensemble de test\n",
        "\n",
        "11- Évaluation du modèle à l'aide de métriques"
      ]
    },
    {
      "cell_type": "code",
      "execution_count": 17,
      "metadata": {
        "id": "Ab1P8GZVw4gj"
      },
      "outputs": [
        {
          "name": "stdout",
          "output_type": "stream",
          "text": [
            "accuracy:, 100.00%\n",
            "class_r:               precision    recall  f1-score   support\n",
            "\n",
            "      Setosa       1.00      1.00      1.00         9\n",
            "  Versicolor       1.00      1.00      1.00        12\n",
            "   Virginica       1.00      1.00      1.00         9\n",
            "\n",
            "    accuracy                           1.00        30\n",
            "   macro avg       1.00      1.00      1.00        30\n",
            "weighted avg       1.00      1.00      1.00        30\n",
            "\n",
            "c_matrix: [[ 9  0  0]\n",
            " [ 0 12  0]\n",
            " [ 0  0  9]]\n"
          ]
        }
      ],
      "source": [
        "# IRIS Dataset : KNN\n",
        "\n",
        "\n",
        "# 1- Importer les packages nécessaires\n",
        "import numpy as np\n",
        "import matplotlib.pyplot as plt\n",
        "import pandas as pd\n",
        "from sklearn.model_selection import train_test_split\n",
        "from sklearn.preprocessing import StandardScaler\n",
        "from sklearn.neighbors import KNeighborsClassifier\n",
        "from sklearn.metrics import classification_report, confusion_matrix, accuracy_score\n",
        "\n",
        "\n",
        "\n",
        "# 2- Lire l'ensemble de données dans le dataframe pandas\n",
        "data=pd.read_csv('iris.csv')\n",
        "\n",
        "# 3- Afficher et explorer l'ensemble de données \"**iris.csv**\"\n",
        "data.head()\n",
        "\n",
        "# 4- Extraire les variables d'entrée X\n",
        "x = data.iloc[:,:-1].values\n",
        "\n",
        "# 5- Extraire les variables de sortie y\n",
        "y = data.iloc[:,4].values\n",
        "\n",
        "\n",
        "# 6- Diviser le dataset en Train / Test\n",
        "x_train,X_test,y_train,y_test = train_test_split(x,y,test_size=0.20)\n",
        "\n",
        "\n",
        "# 7- Mise à l'échelle des fonctionnalités avec Transform()\n",
        "scaler = StandardScaler()\n",
        "scaler.fit(x_train)\n",
        "x_train = scaler.transform(x_train)\n",
        "X_test = scaler.transform(X_test)\n",
        "\n",
        "# 8- Définir votre modèle KNN\n",
        "classifier = KNeighborsClassifier(n_neighbors=15)\n",
        "# 9- Entraîner le modèle\n",
        "classifier.fit(x_train,y_train)\n",
        "\n",
        "# 10- Prédiction sur l'ensemble de test\n",
        "y_pred = classifier.predict(X_test)\n",
        "\n",
        "# 11- Évaluation du modèle à l'aide de métriques\n",
        "accuracy = accuracy_score(y_test, y_pred)\n",
        "conf_matrix = confusion_matrix(y_test, y_pred)\n",
        "class_report = classification_report(y_test, y_pred)\n",
        "print(f\"accuracy:, {accuracy*100:.2f}%\")\n",
        "print('class_r:', class_report)\n",
        "print('c_matrix:', conf_matrix)\n",
        "\n",
        "\n",
        "\n",
        "#12- Changer le K = {5, 10, 20, 30, 40}, que remarquez-vous?\n"
      ]
    },
    {
      "cell_type": "markdown",
      "metadata": {
        "id": "dRAn-qhBwqgp"
      },
      "source": [
        "# **Partie II : Decision Trees**"
      ]
    },
    {
      "cell_type": "markdown",
      "metadata": {
        "id": "UU1ELn91wg2R"
      },
      "source": [
        "# **Questions :**\n",
        "\n",
        "1- Importer les packages nécessaires\n",
        "\n",
        "2- Lire l'ensemble de données dans le dataframe pandas\n",
        "\n",
        "3- Afficher et explorer l'ensemble de données \"**iris.csv**\"\n",
        "\n",
        "4- Extraire les variables d'entrée X\n",
        "\n",
        "5- Extraire les variables de sortie y\n",
        "\n",
        "6- Diviser le dataset en Train / Test\n",
        "\n",
        "7- Mise à l'échelle des fonctionnalités avec Transform()\n",
        "\n",
        "8- Définir votre modèle **Decision Tree**\n",
        "\n",
        "9- Entraîner le modèle\n",
        "\n",
        "10- Prédiction sur l'ensemble de test\n",
        "\n",
        "11- Évaluation du modèle à l'aide de métriques"
      ]
    },
    {
      "cell_type": "code",
      "execution_count": null,
      "metadata": {
        "id": "EfkJv-sMxI-c"
      },
      "outputs": [],
      "source": [
        "# IRIS Dataset : Decision Tree\n",
        "\n",
        "\n",
        "# 1- Importer les packages nécessaires\n",
        "\n",
        "# 2- Lire l'ensemble de données dans le dataframe pandas\n",
        "\n",
        "# 3- Afficher et explorer l'ensemble de données \"iris.csv\"\n",
        "\n",
        "# 4- Extraire les variables d'entrée X\n",
        "\n",
        "# 5- Extraire les variables de sortie y\n",
        "\n",
        "# 6- Diviser le dataset en Train / Test\n",
        "\n",
        "# 7- Mise à l'échelle des fonctionnalités avec Transform()\n",
        "\n",
        "# 8- Définir votre modèle KNN\n",
        "\n",
        "# 9- Entraîner le modèle\n",
        "\n",
        "# 10- Prédiction sur l'ensemble de test\n",
        "\n",
        "# 11- Évaluation du modèle à l'aide de métriques"
      ]
    }
  ],
  "metadata": {
    "colab": {
      "provenance": []
    },
    "kernelspec": {
      "display_name": "Python 3",
      "language": "python",
      "name": "python3"
    },
    "language_info": {
      "codemirror_mode": {
        "name": "ipython",
        "version": 3
      },
      "file_extension": ".py",
      "mimetype": "text/x-python",
      "name": "python",
      "nbconvert_exporter": "python",
      "pygments_lexer": "ipython3",
      "version": "3.12.3"
    }
  },
  "nbformat": 4,
  "nbformat_minor": 0
}
