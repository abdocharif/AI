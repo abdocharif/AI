{
  "cells": [
    {
      "cell_type": "markdown",
      "metadata": {
        "id": "vBY1Vdsp00eN"
      },
      "source": [
        "<center><h1> Corréction Série de Travaux Pratiques N° 6 - Machine Learning </h1></center>\n",
        "<center><h2> Regression Logistique</h2></center>\n",
        "\n",
        "---\n",
        "\n"
      ]
    },
    {
      "cell_type": "markdown",
      "metadata": {
        "id": "2xIqBKf-_MK9"
      },
      "source": [
        "# **Partie I : Regression Logistique**"
      ]
    },
    {
      "cell_type": "markdown",
      "metadata": {
        "id": "2OT_v-xSH8NW"
      },
      "source": [
        "Vous trouverez ci-joint un exemple d'utilisation d'algorithme de regréssion logistique avec les quatres étapes principales."
      ]
    },
    {
      "cell_type": "code",
      "execution_count": 14,
      "metadata": {
        "id": "JhmrQYpLAkeD"
      },
      "outputs": [],
      "source": [
        "# Step 1: Import packages, functions\n",
        "import numpy as np\n",
        "from sklearn.linear_model import LogisticRegression\n",
        "from sklearn.metrics import classification_report, confusion_matrix\n",
        "\n",
        "# Step 2: Get data\n",
        "x = np.arange(10).reshape(-1, 1)\n",
        "y = np.array([0, 1, 0, 0, 1, 1, 1, 1, 1, 1])\n",
        "\n",
        "# Step 3: Create a model and train it\n",
        "model = LogisticRegression(solver='liblinear', C=10.0, random_state=0, max_iter=100)\n",
        "model.fit(x, y)\n",
        "\n",
        "# Step 4: Evaluate the model\n",
        "p_pred = model.predict_proba(x)\n",
        "y_pred = model.predict(x)\n",
        "score_ = model.score(x, y)\n",
        "conf_m = confusion_matrix(y, y_pred)\n",
        "report = classification_report(y, y_pred)"
      ]
    },
    {
      "cell_type": "code",
      "execution_count": 17,
      "metadata": {
        "colab": {
          "base_uri": "https://localhost:8080/"
        },
        "id": "Jl6j49CVBPZy",
        "outputId": "1fbd1535-bc83-4900-ad7d-5282b5b93143"
      },
      "outputs": [
        {
          "name": "stdout",
          "output_type": "stream",
          "text": [
            "x: [[0]\n",
            " [1]\n",
            " [2]\n",
            " [3]\n",
            " [4]\n",
            " [5]\n",
            " [6]\n",
            " [7]\n",
            " [8]\n",
            " [9]]\n",
            "y: [0 1 0 0 1 1 1 1 1 1]\n",
            "intercept: [-1.51632619]\n",
            "coef: [[0.703457]]\n",
            "p_pred: [[0.81999686 0.18000314]\n",
            " [0.69272057 0.30727943]\n",
            " [0.52732579 0.47267421]\n",
            " [0.35570732 0.64429268]\n",
            " [0.21458576 0.78541424]\n",
            " [0.11910229 0.88089771]\n",
            " [0.06271329 0.93728671]\n",
            " [0.03205032 0.96794968]\n",
            " [0.0161218  0.9838782 ]\n",
            " [0.00804372 0.99195628]]\n",
            "y_pred: [0 0 0 1 1 1 1 1 1 1]\n",
            "score_: 0.8\n",
            "conf_m: [[2 1]\n",
            " [1 6]]\n",
            "report:               precision    recall  f1-score   support\n",
            "\n",
            "           0       0.67      0.67      0.67         3\n",
            "           1       0.86      0.86      0.86         7\n",
            "\n",
            "    accuracy                           0.80        10\n",
            "   macro avg       0.76      0.76      0.76        10\n",
            "weighted avg       0.80      0.80      0.80        10\n",
            "\n"
          ]
        }
      ],
      "source": [
        "print('x:', x)\n",
        "print('y:', y)\n",
        "print('intercept:', model.intercept_)\n",
        "print('coef:', model.coef_)\n",
        "print('p_pred:', p_pred)\n",
        "print('y_pred:', y_pred)\n",
        "print('score_:', score_)\n",
        "print('conf_m:', conf_m)\n",
        "print('report:', report)"
      ]
    },
    {
      "cell_type": "markdown",
      "metadata": {
        "id": "7CRPgzmJAP9p"
      },
      "source": [
        "# **Partie II : Classification Binaire**"
      ]
    },
    {
      "cell_type": "markdown",
      "metadata": {
        "id": "ifx0Fkf3QfMe"
      },
      "source": [
        "L'objectif de l'ensemble de données \"**diabetes.csv**\" est de prédire, sur la base de mesures diagnostiques, si un patient **souffre de diabète ou pas**.\n",
        "\n",
        "Ce dataset contient les caractéristiques suivants\n",
        "\n",
        "**Grossesses**: Nombre de fois enceintes.\n",
        "\n",
        "**Glucose**: concentration plasmatique de glucose à 2 heures lors d'un test oral de tolérance au glucose.\n",
        "\n",
        "**Pression artérielle** : tension artérielle diastolique (mm Hg).\n",
        "\n",
        "**Épaisseur de la peau** : épaisseur du pli cutané du triceps (mm).\n",
        "\n",
        "**Insuline** : insuline sérique de 2 heures (mu U/ml).\n",
        "\n",
        "**IMC** : Indice de masse corporelle (poids en kg/(taille en m)^2).\n",
        "\n",
        "**DiabetesPedigreeFunction** : fonction généalogique du diabète.\n",
        "\n",
        "**Âge** : Âge (ans).\n",
        "\n",
        "**Résultat** : variable de classe (0 ou 1)."
      ]
    },
    {
      "cell_type": "markdown",
      "metadata": {
        "id": "eFizXutMLhX1"
      },
      "source": [
        "### **Questions :**\n",
        "\n",
        "Étape 1 : Importer et afficher et explorer l'ensemble de données \"**diabetes.csv**\"\n",
        "\n",
        "Étape 2 : Créer dépendante d'une variable indépendante et stockée sur les variables X et Y.\n",
        "\n",
        "Étape 3 : Transformer les chaînes en entier.\n",
        "\n",
        "Étape 4 : Divisez les données en ensembles d'entrainement et de test.\n",
        "\n",
        "Étape 5 : Définir l'algorithme de régression logistique.\n",
        "\n",
        "Étape 6 :Tester les données de test en utilisant votre modèle.\n",
        "\n",
        "Étape 7 : Évaluation du modèle.\n",
        "\n",
        "Étape 8 : Prédire avec de nouvelles valeurs."
      ]
    },
    {
      "cell_type": "code",
      "execution_count": 18,
      "metadata": {
        "colab": {
          "base_uri": "https://localhost:8080/"
        },
        "id": "4wlRBxy0D99y",
        "outputId": "cefe284a-c332-46d5-8dd8-cb6ab624d608"
      },
      "outputs": [
        {
          "name": "stdout",
          "output_type": "stream",
          "text": [
            "y_pred: [0. 0. 1. 0. 0. 0. 0. 0. 0. 0. 0. 0. 0. 0. 0. 0. 1. 0. 1. 0. 1. 0. 0. 1.\n",
            " 1. 0. 0. 0. 0. 0. 0. 1. 0. 0. 0. 1. 0. 0. 0. 0. 0. 0. 0. 0. 0. 1. 1. 1.\n",
            " 0. 0. 0. 0. 0. 0. 0. 1. 1. 0. 0. 0. 0. 0. 1. 1. 0. 0. 0. 0. 0. 1. 0. 0.\n",
            " 0. 0. 0. 1. 0. 1. 0. 0. 0. 1. 0. 0. 0. 0. 1. 0. 1. 1. 1. 0. 0. 0. 0. 0.\n",
            " 0. 0. 0. 0. 1. 0. 0. 0. 0. 0. 0. 1. 1. 0. 0. 0. 0. 0. 0. 0. 1. 0. 0. 0.\n",
            " 0. 1. 0. 0. 1. 0. 0. 1. 0. 0. 0. 1. 0. 1. 0. 0. 0. 0. 1. 0. 0. 1. 0. 1.\n",
            " 0. 0. 0. 0. 0. 0. 1. 1. 0. 1. 1. 0. 0. 0. 1. 1. 0. 0. 0. 0. 0. 1. 0. 0.\n",
            " 0. 0. 1. 0. 1. 0. 1. 0. 1. 0. 0. 0. 0. 1. 0. 1. 1. 1. 0. 1. 0. 1. 0. 1.]\n",
            "accuracy:, 79.69%\n",
            "conf_m: [[114  14]\n",
            " [ 25  39]]\n",
            "report:               precision    recall  f1-score   support\n",
            "\n",
            "         0.0       0.82      0.89      0.85       128\n",
            "         1.0       0.74      0.61      0.67        64\n",
            "\n",
            "    accuracy                           0.80       192\n",
            "   macro avg       0.78      0.75      0.76       192\n",
            "weighted avg       0.79      0.80      0.79       192\n",
            "\n",
            "p_pred: [[0.8812985  0.1187015 ]\n",
            " [0.51928688 0.48071312]\n",
            " [0.17205774 0.82794226]\n",
            " [0.9657855  0.0342145 ]\n",
            " [0.85129361 0.14870639]\n",
            " [0.90245857 0.09754143]\n",
            " [0.99060653 0.00939347]\n",
            " [0.83324004 0.16675996]\n",
            " [0.86371035 0.13628965]\n",
            " [0.68388114 0.31611886]\n",
            " [0.54501323 0.45498677]\n",
            " [0.76421148 0.23578852]\n",
            " [0.60827149 0.39172851]\n",
            " [0.89018027 0.10981973]\n",
            " [0.74024117 0.25975883]\n",
            " [0.73154609 0.26845391]\n",
            " [0.35899243 0.64100757]\n",
            " [0.66960418 0.33039582]\n",
            " [0.46320974 0.53679026]\n",
            " [0.89152885 0.10847115]\n",
            " [0.27877057 0.72122943]\n",
            " [0.64400626 0.35599374]\n",
            " [0.94680404 0.05319596]\n",
            " [0.36372146 0.63627854]\n",
            " [0.23170462 0.76829538]\n",
            " [0.80174795 0.19825205]\n",
            " [0.75512641 0.24487359]\n",
            " [0.80739628 0.19260372]\n",
            " [0.58228033 0.41771967]\n",
            " [0.51984165 0.48015835]\n",
            " [0.91301807 0.08698193]\n",
            " [0.33364804 0.66635196]\n",
            " [0.92058323 0.07941677]\n",
            " [0.88041201 0.11958799]\n",
            " [0.70579702 0.29420298]\n",
            " [0.15826292 0.84173708]\n",
            " [0.95576029 0.04423971]\n",
            " [0.51782576 0.48217424]\n",
            " [0.9059122  0.0940878 ]\n",
            " [0.85064136 0.14935864]\n",
            " [0.72430561 0.27569439]\n",
            " [0.72419445 0.27580555]\n",
            " [0.79636833 0.20363167]\n",
            " [0.85303677 0.14696323]\n",
            " [0.57382945 0.42617055]\n",
            " [0.37606708 0.62393292]\n",
            " [0.29719742 0.70280258]\n",
            " [0.44683553 0.55316447]\n",
            " [0.70694494 0.29305506]\n",
            " [0.83598562 0.16401438]\n",
            " [0.96386286 0.03613714]\n",
            " [0.84678921 0.15321079]\n",
            " [0.53746936 0.46253064]\n",
            " [0.9932224  0.0067776 ]\n",
            " [0.85496947 0.14503053]\n",
            " [0.36381823 0.63618177]\n",
            " [0.06317447 0.93682553]\n",
            " [0.65376104 0.34623896]\n",
            " [0.85149085 0.14850915]\n",
            " [0.67540257 0.32459743]\n",
            " [0.95895151 0.04104849]\n",
            " [0.7154506  0.2845494 ]\n",
            " [0.31822795 0.68177205]\n",
            " [0.14756336 0.85243664]\n",
            " [0.9253439  0.0746561 ]\n",
            " [0.89812981 0.10187019]\n",
            " [0.52083075 0.47916925]\n",
            " [0.90613399 0.09386601]\n",
            " [0.57432561 0.42567439]\n",
            " [0.24946524 0.75053476]\n",
            " [0.60432335 0.39567665]\n",
            " [0.72981059 0.27018941]\n",
            " [0.79528397 0.20471603]\n",
            " [0.90316553 0.09683447]\n",
            " [0.56856371 0.43143629]\n",
            " [0.49918089 0.50081911]\n",
            " [0.92211916 0.07788084]\n",
            " [0.45197729 0.54802271]\n",
            " [0.84443302 0.15556698]\n",
            " [0.98008366 0.01991634]\n",
            " [0.70736025 0.29263975]\n",
            " [0.07587032 0.92412968]\n",
            " [0.96765498 0.03234502]\n",
            " [0.84450444 0.15549556]\n",
            " [0.67872673 0.32127327]\n",
            " [0.91571619 0.08428381]\n",
            " [0.35333677 0.64666323]\n",
            " [0.77549248 0.22450752]\n",
            " [0.32659078 0.67340922]\n",
            " [0.08534789 0.91465211]\n",
            " [0.42394991 0.57605009]\n",
            " [0.93966338 0.06033662]\n",
            " [0.7776075  0.2223925 ]\n",
            " [0.7247762  0.2752238 ]\n",
            " [0.86302877 0.13697123]\n",
            " [0.907491   0.092509  ]\n",
            " [0.89754943 0.10245057]\n",
            " [0.85128475 0.14871525]\n",
            " [0.68870875 0.31129125]\n",
            " [0.98847434 0.01152566]\n",
            " [0.27792856 0.72207144]\n",
            " [0.90772787 0.09227213]\n",
            " [0.92509235 0.07490765]\n",
            " [0.8808916  0.1191084 ]\n",
            " [0.51235511 0.48764489]\n",
            " [0.76021227 0.23978773]\n",
            " [0.6697771  0.3302229 ]\n",
            " [0.16824421 0.83175579]\n",
            " [0.43883171 0.56116829]\n",
            " [0.97289078 0.02710922]\n",
            " [0.94248507 0.05751493]\n",
            " [0.88002234 0.11997766]\n",
            " [0.76892597 0.23107403]\n",
            " [0.55365388 0.44634612]\n",
            " [0.81598006 0.18401994]\n",
            " [0.88967338 0.11032662]\n",
            " [0.28789935 0.71210065]\n",
            " [0.51157133 0.48842867]\n",
            " [0.86798516 0.13201484]\n",
            " [0.93867385 0.06132615]\n",
            " [0.90621626 0.09378374]\n",
            " [0.26995092 0.73004908]\n",
            " [0.97059378 0.02940622]\n",
            " [0.87720868 0.12279132]\n",
            " [0.03187777 0.96812223]\n",
            " [0.81037474 0.18962526]\n",
            " [0.88864755 0.11135245]\n",
            " [0.28171412 0.71828588]\n",
            " [0.57100758 0.42899242]\n",
            " [0.883798   0.116202  ]\n",
            " [0.70936678 0.29063322]\n",
            " [0.147668   0.852332  ]\n",
            " [0.97232124 0.02767876]\n",
            " [0.14841078 0.85158922]\n",
            " [0.83570203 0.16429797]\n",
            " [0.69376065 0.30623935]\n",
            " [0.9423784  0.0576216 ]\n",
            " [0.52444645 0.47555355]\n",
            " [0.35079562 0.64920438]\n",
            " [0.89912992 0.10087008]\n",
            " [0.53356984 0.46643016]\n",
            " [0.43362086 0.56637914]\n",
            " [0.65019153 0.34980847]\n",
            " [0.20851764 0.79148236]\n",
            " [0.89880337 0.10119663]\n",
            " [0.92535852 0.07464148]\n",
            " [0.55834946 0.44165054]\n",
            " [0.73071209 0.26928791]\n",
            " [0.76810282 0.23189718]\n",
            " [0.69481197 0.30518803]\n",
            " [0.01068181 0.98931819]\n",
            " [0.29634769 0.70365231]\n",
            " [0.7433718  0.2566282 ]\n",
            " [0.29470831 0.70529169]\n",
            " [0.15770222 0.84229778]\n",
            " [0.96028387 0.03971613]\n",
            " [0.79615706 0.20384294]\n",
            " [0.91426477 0.08573523]\n",
            " [0.47182877 0.52817123]\n",
            " [0.39178394 0.60821606]\n",
            " [0.5607889  0.4392111 ]\n",
            " [0.57435713 0.42564287]\n",
            " [0.96036952 0.03963048]\n",
            " [0.67849255 0.32150745]\n",
            " [0.59109135 0.40890865]\n",
            " [0.17822272 0.82177728]\n",
            " [0.81010694 0.18989306]\n",
            " [0.90000398 0.09999602]\n",
            " [0.57493664 0.42506336]\n",
            " [0.86158302 0.13841698]\n",
            " [0.07201407 0.92798593]\n",
            " [0.92722254 0.07277746]\n",
            " [0.42733901 0.57266099]\n",
            " [0.59863692 0.40136308]\n",
            " [0.34418379 0.65581621]\n",
            " [0.87869831 0.12130169]\n",
            " [0.44979474 0.55020526]\n",
            " [0.54707837 0.45292163]\n",
            " [0.62130685 0.37869315]\n",
            " [0.80358876 0.19641124]\n",
            " [0.87093547 0.12906453]\n",
            " [0.28834629 0.71165371]\n",
            " [0.89347129 0.10652871]\n",
            " [0.06420623 0.93579377]\n",
            " [0.19236671 0.80763329]\n",
            " [0.11687005 0.88312995]\n",
            " [0.90996039 0.09003961]\n",
            " [0.49229046 0.50770954]\n",
            " [0.66979644 0.33020356]\n",
            " [0.19870264 0.80129736]\n",
            " [0.51299174 0.48700826]\n",
            " [0.30172283 0.69827717]]\n"
          ]
        }
      ],
      "source": [
        "# # Se connecter\n",
        "# from google.colab import drive\n",
        "# drive.mount('/content/drive')\n",
        "import numpy as np\n",
        "from sklearn.linear_model import LogisticRegression\n",
        "from sklearn.metrics import classification_report, confusion_matrix, accuracy_score\n",
        "from sklearn.model_selection import train_test_split\n",
        "from sklearn.preprocessing import LabelEncoder as le\n",
        "import pandas as pd\n",
        "data = pd.read_csv('diabetes.csv')\n",
        "data.head()\n",
        "X,y= data.values[:,:-1], data.values[:,-1]\n",
        "# X = data.iloc[:,:-1]\n",
        "# y = data.iloc[:,-1]\n",
        "# Y= le.fit_transform(y)\n",
        "x_train,X_test,y_train,y_test = train_test_split(X,y,test_size=0.20)\n",
        "model=LogisticRegression(solver='liblinear', C=10.0, random_state=0,max_iter=1000)\n",
        "model.fit(x_train,y_train)\n",
        "y_pred=model.predict(X_test)\n",
        "p_pred = model.predict_proba(X_test)\n",
        "accuracy = accuracy_score(y_test,y_pred)\n",
        "conf_m = confusion_matrix(y_test, y_pred)\n",
        "report = classification_report(y_test, y_pred)\n",
        "print('y_pred:', y_pred)\n",
        "print(f\"accuracy:, {accuracy*100:.2f}%\")\n",
        "print('conf_m:', conf_m)\n",
        "print('report:', report)\n",
        "print('p_pred:', p_pred)\n",
        "\n",
        "\n",
        "\n",
        "\n"
      ]
    },
    {
      "cell_type": "code",
      "execution_count": null,
      "metadata": {
        "colab": {
          "base_uri": "https://localhost:8080/"
        },
        "id": "O0NC3rVjEMTt",
        "outputId": "c99b0f4b-e00b-4002-b048-7794de9c3307"
      },
      "outputs": [
        {
          "name": "stdout",
          "output_type": "stream",
          "text": [
            "/content/drive/My Drive/Colab Notebooks\n"
          ]
        }
      ],
      "source": [
        "# cd drive/My Drive/Colab Notebooks"
      ]
    },
    {
      "cell_type": "code",
      "execution_count": null,
      "metadata": {
        "id": "_NuxG5qDTWyp"
      },
      "outputs": [],
      "source": [
        "# Binary Classification : Diabetes\n"
      ]
    },
    {
      "cell_type": "markdown",
      "metadata": {
        "id": "J3Zbjz_AAZ5l"
      },
      "source": [
        "# **Partie II : Classification Multi-Classe**"
      ]
    },
    {
      "cell_type": "markdown",
      "metadata": {
        "id": "x1NijNx4OpVg"
      },
      "source": [
        "Pour cette partie, on utilisera le **dataset IRIS**. Ce dernier est une base de données regroupant les caractéristiques de **trois espèces de fleurs d’Iris, à savoir Setosa, Versicolour et Virginica**. Chaque ligne de ce jeu de données est une observation des caractéristiques d’une fleur d’Iris. Ce dataset décrit les espèces d’Iris par quatre propriétés : longueur et largeur de sépales ainsi que longueur et largeur de pétales. La base de données comporte 150 observations (50 observations par espèce)."
      ]
    },
    {
      "cell_type": "markdown",
      "metadata": {
        "id": "TSTbiW8UMiPt"
      },
      "source": [
        "### **Questions :**\n",
        "\n",
        "Étape 1 : Importer, afficher et explorer l'ensemble de données \"**iris.csv**\"\n",
        "\n",
        "Étape 2 : Créer dépendante d'une variable indépendante et stockée sur les variables X et Y.\n",
        "\n",
        "Étape 3 : Transformer les chaînes en entier.\n",
        "\n",
        "Étape 4 : Divisez les données en ensembles d'entrainement et de test.\n",
        "\n",
        "Étape 5 : Définir l'algorithme de régression logistique.\n",
        "\n",
        "Étape 6 :Tester les données de test en utilisant votre modèle.\n",
        "\n",
        "Étape 7 : Évaluation du modèle.\n",
        "\n",
        "Étape 8 : Prédire avec de nouvelles valeurs."
      ]
    },
    {
      "cell_type": "code",
      "execution_count": null,
      "metadata": {
        "id": "P8PUWA4oTlBB"
      },
      "outputs": [],
      "source": [
        "# Multi-Class Classification : IRIS Dataset\n",
        "import pandas as pd\n",
        "\n",
        "# Importer l'ensemble de données\n",
        "data = pd.read_csv('iris.csv')\n",
        "\n",
        "# Afficher les premières lignes du dataset\n",
        "print(data.head())\n",
        "\n",
        "# Afficher des informations générales sur l'ensemble de données\n",
        "print(data.info())\n",
        "\n",
        "# Résumé statistique\n",
        "print(data.describe())\n",
        "\n",
        "# Définir X (caractéristiques) et Y (variable cible)\n",
        "data = pd.read_csv('iris.csv')\n",
        "X= data.values[:,:-1]\n",
        "Y= data.values[:,-1]\n",
        "from sklearn.preprocessing import LabelEncoder\n",
        "\n",
        "# Encoder la variable cible\n",
        "label_encoder = LabelEncoder()\n",
        "Y = label_encoder.fit_transform(Y)\n",
        "from sklearn.model_selection import train_test_split\n",
        "\n",
        "# Diviser les données\n",
        "X_train, X_test, Y_train, Y_test = train_test_split(X, Y, test_size=0.2, random_state=42)\n",
        "from sklearn.linear_model import LogisticRegression\n",
        "\n",
        "# Initialiser le modèle de régression logistique\n",
        "model = LogisticRegression(max_iter=200)\n",
        "# Entraîner le modèle\n",
        "model.fit(X_train, Y_train)\n",
        "\n",
        "# Faire des prédictions\n",
        "predictions = model.predict(X_test)\n",
        "from sklearn.metrics import accuracy_score, confusion_matrix, classification_report\n",
        "\n",
        "# Calculer la précision\n",
        "accuracy = accuracy_score(Y_test, predictions)\n",
        "print(f'Accuracy: {accuracy}')\n",
        "\n",
        "# Matrice de confusion\n",
        "conf_matrix = confusion_matrix(Y_test, predictions)\n",
        "print('Confusion Matrix:')\n",
        "print(conf_matrix)\n",
        "\n",
        "# Rapport de classification\n",
        "class_report = classification_report(Y_test, predictions)\n",
        "print('Classification Report:')\n",
        "print(class_report)\n",
        "# Exemple de nouvelles valeurs (modifiez selon vos besoins)\n",
        "new_data = [[5.1, 3.5, 1.4, 0.2]]  # Longueur et largeur des sépales, longueur et largeur des pétales\n",
        "\n",
        "# Faire une prédiction\n",
        "new_prediction = model.predict(new_data)\n",
        "new_prediction_species = label_encoder.inverse_transform(new_prediction)\n",
        "print(f'Prediction for new data: {new_prediction_species}')\n",
        "\n"
      ]
    }
  ],
  "metadata": {
    "colab": {
      "provenance": []
    },
    "kernelspec": {
      "display_name": "Python 3",
      "language": "python",
      "name": "python3"
    },
    "language_info": {
      "codemirror_mode": {
        "name": "ipython",
        "version": 3
      },
      "file_extension": ".py",
      "mimetype": "text/x-python",
      "name": "python",
      "nbconvert_exporter": "python",
      "pygments_lexer": "ipython3",
      "version": "3.12.3"
    }
  },
  "nbformat": 4,
  "nbformat_minor": 0
}
